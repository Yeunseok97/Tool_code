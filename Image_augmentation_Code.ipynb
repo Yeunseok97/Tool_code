{
  "cells": [
    {
      "cell_type": "markdown",
      "metadata": {
        "id": "view-in-github",
        "colab_type": "text"
      },
      "source": [
        "<a href=\"https://colab.research.google.com/github/Yeunseok97/Tool_code/blob/master/Image_augmentation_Code.ipynb\" target=\"_parent\"><img src=\"https://colab.research.google.com/assets/colab-badge.svg\" alt=\"Open In Colab\"/></a>"
      ]
    },
    {
      "cell_type": "code",
      "execution_count": null,
      "metadata": {
        "colab": {
          "base_uri": "https://localhost:8080/"
        },
        "id": "i2kEs-Z9tK1Y",
        "outputId": "4ace59f0-1c98-41f6-89c3-2a73b86e36bc"
      },
      "outputs": [
        {
          "name": "stdout",
          "output_type": "stream",
          "text": [
            "Requirement already satisfied: Augmentor in /home/ubuntu/anaconda3/envs/yolov5/lib/python3.9/site-packages (0.2.10)\n",
            "Requirement already satisfied: Pillow>=5.2.0 in /home/ubuntu/anaconda3/envs/yolov5/lib/python3.9/site-packages (from Augmentor) (9.0.1)\n",
            "Requirement already satisfied: tqdm>=4.9.0 in /home/ubuntu/anaconda3/envs/yolov5/lib/python3.9/site-packages (from Augmentor) (4.64.0)\n",
            "Requirement already satisfied: numpy>=1.11.0 in /home/ubuntu/anaconda3/envs/yolov5/lib/python3.9/site-packages (from Augmentor) (1.22.3)\n",
            "Requirement already satisfied: future>=0.16.0 in /home/ubuntu/anaconda3/envs/yolov5/lib/python3.9/site-packages (from Augmentor) (0.18.2)\n",
            "Note: you may need to restart the kernel to use updated packages.\n"
          ]
        }
      ],
      "source": [
        "pip install Augmentor"
      ]
    },
    {
      "cell_type": "code",
      "execution_count": null,
      "metadata": {
        "id": "qP_Fae4EtNLP"
      },
      "outputs": [],
      "source": [
        "import Augmentor"
      ]
    },
    {
      "cell_type": "code",
      "execution_count": null,
      "metadata": {
        "id": "4qSQJJgR3KwI",
        "outputId": "b9ae0263-5412-4c5e-84db-c654740def88"
      },
      "outputs": [
        {
          "name": "stdout",
          "output_type": "stream",
          "text": [
            "/home/lab34\n",
            "/home/lab34/images\n"
          ]
        }
      ],
      "source": [
        "!pwd\n",
        "%cd images"
      ]
    },
    {
      "cell_type": "code",
      "execution_count": null,
      "metadata": {
        "colab": {
          "base_uri": "https://localhost:8080/"
        },
        "id": "3J4ExTUttNNr",
        "outputId": "74cd6690-a5d4-4387-e2fe-826bec90163d"
      },
      "outputs": [
        {
          "name": "stdout",
          "output_type": "stream",
          "text": [
            "Initialised with 50 image(s) found.\n",
            "Output directory set to /home/lab34/images/output."
          ]
        },
        {
          "name": "stderr",
          "output_type": "stream",
          "text": [
            "Processing <PIL.Image.Image image mode=RGB size=4032x3024 at 0x7F452C071190>: 10\n"
          ]
        }
      ],
      "source": [
        "#멀티캠퍼스 이미지 어그멘테이션\n",
        "img = Augmentor.Pipeline(\"/home/lab34/images\")\n",
        "\n",
        "# # 좌우 반전\n",
        "# img.flip_left_right(probability=1.0)\n",
        "\n",
        "# # 상하 반전\n",
        "# img.flip_top_bottom(probability=1.0)\n",
        "\n",
        "# #모퉁이 왜곡\n",
        "# img.skew_corner(probability=1.0)\n",
        "\n",
        "# #회전&크롭\n",
        "img.rotate_without_crop(probability=1, max_left_rotation=100, max_right_rotation=0.8, expand=False, fillcolor=None)\n",
        "\n",
        "# # 왜곡\n",
        "# img.random_distortion(probability=1, grid_width=10, grid_height=10, magnitude=30)\n",
        "\n",
        "# #확대\n",
        "# img.zoom_random(probability=1, percentage_area=0.8)\n",
        "\n",
        "# #크롭\n",
        "# img.crop_random(probability=1, percentage_area=0.8, randomise_percentage_area=False)\n",
        "\n",
        "# #랜덤 지우기\n",
        "# img.random_erasing(probability=1.0, rectangle_area=0.3)\n",
        "\n",
        "# 증강 이미지 수\n",
        "img.sample(100)"
      ]
    },
    {
      "cell_type": "code",
      "execution_count": null,
      "metadata": {
        "id": "LHuQx4n-tNQG"
      },
      "outputs": [],
      "source": []
    },
    {
      "cell_type": "code",
      "execution_count": null,
      "metadata": {
        "id": "-QQgRi07tNSi"
      },
      "outputs": [],
      "source": []
    },
    {
      "cell_type": "code",
      "execution_count": 1,
      "metadata": {
        "id": "q202V0tYtNVT",
        "colab": {
          "base_uri": "https://localhost:8080/"
        },
        "outputId": "b2c923cf-b25b-44b6-d574-7e9351781343"
      },
      "outputs": [
        {
          "output_type": "stream",
          "name": "stdout",
          "text": [
            "현재 원본 파일 개수: 10\n",
            "각 원본 파일에 대해 몇회차 어그멘테이션을 진행하시겠습니까? (원본 파일 개수와 관계없이 입력 가능): 4\n",
            "40증강 이미지 생성\n"
          ]
        }
      ],
      "source": [
        "import os\n",
        "import cv2\n",
        "import numpy as np\n",
        "import random\n",
        "\n",
        "def adjust_brightness(image, factor_range=(0.7, 1.3)):\n",
        "    hsv = cv2.cvtColor(image, cv2.COLOR_BGR2HSV)\n",
        "    factor = random.uniform(factor_range[0], factor_range[1])\n",
        "    hsv[:, :, 2] = np.clip(hsv[:, :, 2] * factor, 0, 255)\n",
        "    return cv2.cvtColor(hsv, cv2.COLOR_HSV2BGR)\n",
        "\n",
        "def adjust_saturation(image, factor_range=(0.7, 1.3)):\n",
        "    hsv = cv2.cvtColor(image, cv2.COLOR_BGR2HSV)\n",
        "    factor = random.uniform(factor_range[0], factor_range[1])\n",
        "    hsv[:, :, 1] = np.clip(hsv[:, :, 1] * factor, 0, 255)\n",
        "    return cv2.cvtColor(hsv, cv2.COLOR_HSV2BGR)\n",
        "\n",
        "def adjust_contrast(image, factor_range=(0.7, 1.3)):\n",
        "    lab = cv2.cvtColor(image, cv2.COLOR_BGR2LAB)\n",
        "    factor = random.uniform(factor_range[0], factor_range[1])\n",
        "    lab[:, :, 0] = np.clip(lab[:, :, 0] * factor, 0, 255)\n",
        "    return cv2.cvtColor(lab, cv2.COLOR_LAB2BGR)\n",
        "\n",
        "def apply_augmentation(image):\n",
        "    # 명도, 채도, 대비 차례대로 적용\n",
        "    brightened_image = adjust_brightness(image)\n",
        "    saturated_image = adjust_saturation(brightened_image)\n",
        "    contrasted_image = adjust_contrast(saturated_image)\n",
        "\n",
        "    return contrasted_image\n",
        "\n",
        "# 원본 이미지 파일들이 있는 폴더 경로\n",
        "input_folder = '/content/raw_data'\n",
        "\n",
        "# 증강된 이미지들을 저장할 폴더 경로\n",
        "output_folder = '/content/augmented_data'\n",
        "\n",
        "# 원본 이미지 파일들의 수를 세기\n",
        "num_original_images = sum(1 for _ in os.listdir(input_folder) if _.endswith('.jpg'))\n",
        "\n",
        "print(f'현재 원본 파일 개수: {num_original_images}')\n",
        "\n",
        "# 사용자로부터 어그멘테이션 횟수 입력 받기\n",
        "num_augmentations = int(input('각 원본 파일에 대해 몇회차 어그멘테이션을 진행하시겠습니까? (원본 파일 개수와 관계없이 입력 가능): '))\n",
        "\n",
        "# 전체 랜덤 적용 횟수\n",
        "num_total_augmentations = num_original_images * num_augmentations\n",
        "\n",
        "# 각 원본 파일에 대해 랜덤 어그멘테이션을 적용하고 저장\n",
        "for image_number in range(1, num_original_images + 1):\n",
        "    image = cv2.imread(f'{input_folder}/business_Card ({image_number}).jpg')\n",
        "\n",
        "    if image is None:\n",
        "        print(f\"Error: Unable to read the image at path: {input_folder}/business_Card ({image_number}).jpg\")\n",
        "        continue\n",
        "\n",
        "    # 각 원본 이미지에 대해 지정된 횟수만큼 어그멘테이션 적용\n",
        "    for augmentation_count in range(1, num_augmentations + 1):\n",
        "        # 어그멘테이션 적용\n",
        "        augmented_image = apply_augmentation(image)\n",
        "\n",
        "        # 저장할 파일명 설정\n",
        "        output_filename = f'{output_folder}/augmented_image_{image_number}_{augmentation_count}.jpg'\n",
        "\n",
        "        # 이미지 저장\n",
        "        cv2.imwrite(output_filename, augmented_image)\n",
        "\n",
        "print(f'{num_total_augmentations}개 증강 이미지 생성')"
      ]
    },
    {
      "cell_type": "code",
      "execution_count": null,
      "metadata": {
        "id": "NtKVKKIZtNXw",
        "colab": {
          "base_uri": "https://localhost:8080/",
          "height": 35
        },
        "outputId": "4e10d8fb-4a61-477a-bc55-9cb30764dafa"
      },
      "outputs": [
        {
          "output_type": "execute_result",
          "data": {
            "text/plain": [
              "'/content'"
            ],
            "application/vnd.google.colaboratory.intrinsic+json": {
              "type": "string"
            }
          },
          "metadata": {},
          "execution_count": 4
        }
      ],
      "source": [
        "pwd"
      ]
    },
    {
      "cell_type": "code",
      "execution_count": 1,
      "metadata": {
        "id": "dbegaSTttNag",
        "colab": {
          "base_uri": "https://localhost:8080/"
        },
        "outputId": "c0b7c314-5b8e-4637-8d81-0e7e13ea58da"
      },
      "outputs": [
        {
          "output_type": "stream",
          "name": "stdout",
          "text": [
            "현재 원본 파일 개수: 3\n",
            "각 원본 파일에 대해 몇회차 어그멘테이션을 진행하시겠습니까? (원본 파일 개수와 관계없이 입력 가능): 3\n",
            "랜덤 어그멘테이션을 적용하여 9개의  이미지를 생성 및 저장하였습니다.\n"
          ]
        }
      ],
      "source": [
        "import os\n",
        "import cv2\n",
        "import numpy as np\n",
        "import random\n",
        "\n",
        "def adjust_brightness(image, factor_range=(0.7, 1.3)):\n",
        "    hsv = cv2.cvtColor(image, cv2.COLOR_BGR2HSV)\n",
        "    factor = random.uniform(factor_range[0], factor_range[1])\n",
        "    hsv[:, :, 2] = np.clip(hsv[:, :, 2] * factor, 0, 255)\n",
        "    return cv2.cvtColor(hsv, cv2.COLOR_HSV2BGR)\n",
        "\n",
        "def adjust_saturation(image, factor_range=(0.7, 1.3)):\n",
        "    hsv = cv2.cvtColor(image, cv2.COLOR_BGR2HSV)\n",
        "    factor = random.uniform(factor_range[0], factor_range[1])\n",
        "    hsv[:, :, 1] = np.clip(hsv[:, :, 1] * factor, 0, 255)\n",
        "    return cv2.cvtColor(hsv, cv2.COLOR_HSV2BGR)\n",
        "\n",
        "def adjust_contrast(image, factor_range=(0.7, 1.3)):\n",
        "    lab = cv2.cvtColor(image, cv2.COLOR_BGR2LAB)\n",
        "    factor = random.uniform(factor_range[0], factor_range[1])\n",
        "    lab[:, :, 0] = np.clip(lab[:, :, 0] * factor, 0, 255)\n",
        "    return cv2.cvtColor(lab, cv2.COLOR_LAB2BGR)\n",
        "\n",
        "def apply_augmentation(image):\n",
        "    # 명도, 채도, 대비 차례대로 적용\n",
        "    brightened_image = adjust_brightness(image)\n",
        "    saturated_image = adjust_saturation(brightened_image)\n",
        "    contrasted_image = adjust_contrast(saturated_image)\n",
        "\n",
        "    return contrasted_image\n",
        "\n",
        "# 원본 이미지 파일들이 있는 폴더 경로\n",
        "input_folder = '/content/raw_data'\n",
        "\n",
        "# 증강된 이미지들을 저장할 폴더 경로\n",
        "output_folder = '/content/augmented_data'\n",
        "\n",
        "# 원본 이미지 파일들의 수를 세기\n",
        "num_original_images = sum(1 for _ in os.listdir(input_folder) if _.endswith('.jpg'))\n",
        "\n",
        "print(f'현재 원본 파일 개수: {num_original_images}')\n",
        "\n",
        "# 사용자로부터 어그멘테이션 횟수 입력 받기\n",
        "num_augmentations = int(input('각 원본 파일에 대해 몇회차 어그멘테이션을 진행하시겠습니까? (원본 파일 개수와 관계없이 입력 가능): '))\n",
        "\n",
        "# 전체 랜덤 적용 횟수\n",
        "num_total_augmentations = num_original_images * num_augmentations\n",
        "\n",
        "# 각 어그멘테이션 회차에 대해 랜덤 어그멘테이션을 적용하고 저장\n",
        "for augmentation_count in range(1, num_augmentations + 1):\n",
        "    # 각 어그멘테이션 회차에 대한 폴더 생성\n",
        "    augmentation_folder = f'{output_folder}/augmentation{augmentation_count}'\n",
        "    os.makedirs(augmentation_folder, exist_ok=True)\n",
        "\n",
        "    # 원본 이미지에 대해 랜덤 어그멘테이션 적용하고 저장\n",
        "    for image_number in range(1, num_original_images + 1):\n",
        "        image = cv2.imread(f'{input_folder}/business_Card ({image_number}).jpg')\n",
        "\n",
        "        if image is None:\n",
        "            print(f\"Error: Unable to read the image at path: {input_folder}/business_Card ({image_number}).jpg\")\n",
        "            continue\n",
        "\n",
        "        # 어그멘테이션 적용\n",
        "        augmented_image = apply_augmentation(image)\n",
        "\n",
        "        # 저장할 파일명 설정\n",
        "        output_filename = f'{augmentation_folder}/image{image_number}_augmentation{augmentation_count}.jpg'\n",
        "\n",
        "        # 이미지 저장\n",
        "        cv2.imwrite(output_filename, augmented_image)\n",
        "\n",
        "print(f'랜덤 어그멘테이션을 적용하여 {num_total_augmentations}개의  이미지를 생성 및 저장하였습니다.')\n"
      ]
    },
    {
      "cell_type": "code",
      "execution_count": 2,
      "metadata": {
        "id": "omLGe3SAtNc7",
        "colab": {
          "base_uri": "https://localhost:8080/"
        },
        "outputId": "39d76d4a-0ae4-4fa5-8e92-b708c87494c6"
      },
      "outputs": [
        {
          "output_type": "stream",
          "name": "stdout",
          "text": [
            "9번의 랜덤 어그멘테이션을 적용하여 이미지를 생성 및 저장하였습니다.\n"
          ]
        }
      ],
      "source": []
    },
    {
      "cell_type": "code",
      "execution_count": null,
      "metadata": {
        "id": "4XA4agWTtNfY"
      },
      "outputs": [],
      "source": []
    },
    {
      "cell_type": "code",
      "execution_count": null,
      "metadata": {
        "id": "wygqaE96tNhz"
      },
      "outputs": [],
      "source": []
    }
  ],
  "metadata": {
    "colab": {
      "provenance": [],
      "include_colab_link": true
    },
    "kernelspec": {
      "display_name": "Python 3 (ipykernel)",
      "language": "python",
      "name": "python3"
    },
    "language_info": {
      "codemirror_mode": {
        "name": "ipython",
        "version": 3
      },
      "file_extension": ".py",
      "mimetype": "text/x-python",
      "name": "python",
      "nbconvert_exporter": "python",
      "pygments_lexer": "ipython3",
      "version": "3.9.7"
    }
  },
  "nbformat": 4,
  "nbformat_minor": 0
}