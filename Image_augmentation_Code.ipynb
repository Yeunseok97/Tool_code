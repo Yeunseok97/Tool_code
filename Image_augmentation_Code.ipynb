{
  "cells": [
    {
      "cell_type": "markdown",
      "metadata": {
        "id": "view-in-github",
        "colab_type": "text"
      },
      "source": [
        "<a href=\"https://colab.research.google.com/github/Yeunseok97/Tool_code/blob/master/Image_augmentation_Code.ipynb\" target=\"_parent\"><img src=\"https://colab.research.google.com/assets/colab-badge.svg\" alt=\"Open In Colab\"/></a>"
      ]
    },
    {
      "cell_type": "code",
      "execution_count": null,
      "metadata": {
        "colab": {
          "base_uri": "https://localhost:8080/"
        },
        "id": "i2kEs-Z9tK1Y",
        "outputId": "4ace59f0-1c98-41f6-89c3-2a73b86e36bc"
      },
      "outputs": [
        {
          "name": "stdout",
          "output_type": "stream",
          "text": [
            "Requirement already satisfied: Augmentor in /home/ubuntu/anaconda3/envs/yolov5/lib/python3.9/site-packages (0.2.10)\n",
            "Requirement already satisfied: Pillow>=5.2.0 in /home/ubuntu/anaconda3/envs/yolov5/lib/python3.9/site-packages (from Augmentor) (9.0.1)\n",
            "Requirement already satisfied: tqdm>=4.9.0 in /home/ubuntu/anaconda3/envs/yolov5/lib/python3.9/site-packages (from Augmentor) (4.64.0)\n",
            "Requirement already satisfied: numpy>=1.11.0 in /home/ubuntu/anaconda3/envs/yolov5/lib/python3.9/site-packages (from Augmentor) (1.22.3)\n",
            "Requirement already satisfied: future>=0.16.0 in /home/ubuntu/anaconda3/envs/yolov5/lib/python3.9/site-packages (from Augmentor) (0.18.2)\n",
            "Note: you may need to restart the kernel to use updated packages.\n"
          ]
        }
      ],
      "source": [
        "pip install Augmentor"
      ]
    },
    {
      "cell_type": "code",
      "execution_count": null,
      "metadata": {
        "id": "qP_Fae4EtNLP"
      },
      "outputs": [],
      "source": [
        "import Augmentor"
      ]
    },
    {
      "cell_type": "code",
      "execution_count": null,
      "metadata": {
        "id": "4qSQJJgR3KwI",
        "outputId": "b9ae0263-5412-4c5e-84db-c654740def88"
      },
      "outputs": [
        {
          "name": "stdout",
          "output_type": "stream",
          "text": [
            "/home/lab34\n",
            "/home/lab34/images\n"
          ]
        }
      ],
      "source": [
        "!pwd\n",
        "%cd images"
      ]
    },
    {
      "cell_type": "code",
      "execution_count": null,
      "metadata": {
        "colab": {
          "base_uri": "https://localhost:8080/"
        },
        "id": "3J4ExTUttNNr",
        "outputId": "74cd6690-a5d4-4387-e2fe-826bec90163d"
      },
      "outputs": [
        {
          "name": "stdout",
          "output_type": "stream",
          "text": [
            "Initialised with 50 image(s) found.\n",
            "Output directory set to /home/lab34/images/output."
          ]
        },
        {
          "name": "stderr",
          "output_type": "stream",
          "text": [
            "Processing <PIL.Image.Image image mode=RGB size=4032x3024 at 0x7F452C071190>: 10\n"
          ]
        }
      ],
      "source": [
        "#멀티캠퍼스 이미지 어그멘테이션\n",
        "img = Augmentor.Pipeline(\"/home/lab34/images\")\n",
        "\n",
        "# # 좌우 반전\n",
        "# img.flip_left_right(probability=1.0)\n",
        "\n",
        "# # 상하 반전\n",
        "# img.flip_top_bottom(probability=1.0)\n",
        "\n",
        "# #모퉁이 왜곡\n",
        "# img.skew_corner(probability=1.0)\n",
        "\n",
        "# #회전&크롭\n",
        "img.rotate_without_crop(probability=1, max_left_rotation=100, max_right_rotation=0.8, expand=False, fillcolor=None)\n",
        "\n",
        "# # 왜곡\n",
        "# img.random_distortion(probability=1, grid_width=10, grid_height=10, magnitude=30)\n",
        "\n",
        "# #확대\n",
        "# img.zoom_random(probability=1, percentage_area=0.8)\n",
        "\n",
        "# #크롭\n",
        "# img.crop_random(probability=1, percentage_area=0.8, randomise_percentage_area=False)\n",
        "\n",
        "# #랜덤 지우기\n",
        "# img.random_erasing(probability=1.0, rectangle_area=0.3)\n",
        "\n",
        "# 증강 이미지 수\n",
        "img.sample(100)"
      ]
    },
    {
      "cell_type": "code",
      "execution_count": null,
      "metadata": {
        "id": "LHuQx4n-tNQG"
      },
      "outputs": [],
      "source": []
    },
    {
      "cell_type": "code",
      "execution_count": null,
      "metadata": {
        "id": "-QQgRi07tNSi"
      },
      "outputs": [],
      "source": []
    },
    {
      "cell_type": "code",
      "execution_count": 8,
      "metadata": {
        "id": "q202V0tYtNVT",
        "colab": {
          "base_uri": "https://localhost:8080/"
        },
        "outputId": "a1853791-2f58-4c28-8e74-8e14f9badf9a"
      },
      "outputs": [
        {
          "output_type": "stream",
          "name": "stdout",
          "text": [
            "10장의 이미지를 생성 및 저장하였습니다.\n"
          ]
        }
      ],
      "source": [
        "#시각지능학습 이미지 어그멘테이션\n",
        "\n",
        "import cv2\n",
        "import numpy as np\n",
        "import random\n",
        "\n",
        "def adjust_brightness(image, factor_range=(0.7, 1.3)):\n",
        "    hsv = cv2.cvtColor(image, cv2.COLOR_BGR2HSV)\n",
        "    factor = random.uniform(factor_range[0], factor_range[1])\n",
        "    hsv[:, :, 2] = np.clip(hsv[:, :, 2] * factor, 0, 255)\n",
        "    return cv2.cvtColor(hsv, cv2.COLOR_HSV2BGR)\n",
        "\n",
        "def adjust_saturation(image, factor_range=(0.7, 1.3)):\n",
        "    hsv = cv2.cvtColor(image, cv2.COLOR_BGR2HSV)\n",
        "    factor = random.uniform(factor_range[0], factor_range[1])\n",
        "    hsv[:, :, 1] = np.clip(hsv[:, :, 1] * factor, 0, 255)\n",
        "    return cv2.cvtColor(hsv, cv2.COLOR_HSV2BGR)\n",
        "\n",
        "def adjust_contrast(image, factor_range=(0.7, 1.3)):\n",
        "    lab = cv2.cvtColor(image, cv2.COLOR_BGR2LAB)\n",
        "    factor = random.uniform(factor_range[0], factor_range[1])\n",
        "    lab[:, :, 0] = np.clip(lab[:, :, 0] * factor, 0, 255)\n",
        "    return cv2.cvtColor(lab, cv2.COLOR_LAB2BGR)\n",
        "\n",
        "def apply_augmentation(image):\n",
        "    # 명도, 채도, 대비 차례대로 적용\n",
        "    brightened_image = adjust_brightness(image)\n",
        "    saturated_image = adjust_saturation(brightened_image)\n",
        "    contrasted_image = adjust_contrast(saturated_image)\n",
        "\n",
        "    return contrasted_image\n",
        "\n",
        "input_folder = '/content/raw_data'\n",
        "output_folder = '/content/augmented_data'\n",
        "\n",
        "# 몇 장의 이미지를 생성할 것인지 설정 -> raw_data 수에 맞게 생성해야함.\n",
        "num_augmented_images = 10\n",
        "\n",
        "\n",
        "\n",
        "for i in range(1, num_augmented_images + 1):\n",
        "    # 이미지데이터 파일명 같은 규칙으로 넘버링할것\n",
        "    image = cv2.imread(f'{input_folder}/business_Card ({i}).jpg')\n",
        "\n",
        "    if image is None:\n",
        "        print(f\"Error: Unable to read the image at path: {input_folder}/business_Card ({i}).jpg\")\n",
        "        continue\n",
        "\n",
        "    augmented_image = apply_augmentation(image)\n",
        "\n",
        "    output_filename = f'{output_folder}/augmented_image_{i}.jpg'\n",
        "\n",
        "    cv2.imwrite(output_filename, augmented_image)\n",
        "\n",
        "print(f'{num_augmented_images}장의 이미지를 생성 및 저장하였습니다.')"
      ]
    },
    {
      "cell_type": "code",
      "execution_count": 4,
      "metadata": {
        "id": "NtKVKKIZtNXw",
        "colab": {
          "base_uri": "https://localhost:8080/",
          "height": 35
        },
        "outputId": "4e10d8fb-4a61-477a-bc55-9cb30764dafa"
      },
      "outputs": [
        {
          "output_type": "execute_result",
          "data": {
            "text/plain": [
              "'/content'"
            ],
            "application/vnd.google.colaboratory.intrinsic+json": {
              "type": "string"
            }
          },
          "metadata": {},
          "execution_count": 4
        }
      ],
      "source": [
        "pwd"
      ]
    },
    {
      "cell_type": "code",
      "execution_count": null,
      "metadata": {
        "id": "dbegaSTttNag"
      },
      "outputs": [],
      "source": []
    },
    {
      "cell_type": "code",
      "execution_count": null,
      "metadata": {
        "id": "omLGe3SAtNc7"
      },
      "outputs": [],
      "source": []
    },
    {
      "cell_type": "code",
      "execution_count": null,
      "metadata": {
        "id": "4XA4agWTtNfY"
      },
      "outputs": [],
      "source": []
    },
    {
      "cell_type": "code",
      "execution_count": null,
      "metadata": {
        "id": "wygqaE96tNhz"
      },
      "outputs": [],
      "source": []
    }
  ],
  "metadata": {
    "colab": {
      "provenance": [],
      "include_colab_link": true
    },
    "kernelspec": {
      "display_name": "Python 3 (ipykernel)",
      "language": "python",
      "name": "python3"
    },
    "language_info": {
      "codemirror_mode": {
        "name": "ipython",
        "version": 3
      },
      "file_extension": ".py",
      "mimetype": "text/x-python",
      "name": "python",
      "nbconvert_exporter": "python",
      "pygments_lexer": "ipython3",
      "version": "3.9.7"
    }
  },
  "nbformat": 4,
  "nbformat_minor": 0
}